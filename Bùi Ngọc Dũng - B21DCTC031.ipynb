{
 "cells": [
  {
   "cell_type": "markdown",
   "id": "cf180d5f",
   "metadata": {},
   "source": [
    "## Question 1: Brief overview of company with those stocks code: Industry/Sector, # of Employees, Market capital, Main Product , Annual sales, Book values,...\n"
   ]
  },
  {
   "cell_type": "code",
   "execution_count": 2,
   "id": "ebcf2c6e",
   "metadata": {},
   "outputs": [],
   "source": [
    "import numpy as np\n",
    "import pandas as pd\n",
    "import matplotlib.pyplot as plt\n",
    "import yfinance as yf\n",
    "import seaborn as sns"
   ]
  },
  {
   "cell_type": "code",
   "execution_count": 3,
   "id": "4406ddc1",
   "metadata": {},
   "outputs": [],
   "source": [
    "# Câu lệnh giúp hiển thị nhiều output\n",
    "from IPython.core.interactiveshell import InteractiveShell\n",
    "InteractiveShell.ast_node_interactivity = \"all\" "
   ]
  },
  {
   "cell_type": "markdown",
   "id": "50a197af",
   "metadata": {},
   "source": [
    "### 1.Overview of Alphabet Inc (GOOG)"
   ]
  },
  {
   "cell_type": "code",
   "execution_count": 4,
   "id": "e54bcc8d",
   "metadata": {},
   "outputs": [
    {
     "data": {
      "text/html": [
       "<div>\n",
       "<style scoped>\n",
       "    .dataframe tbody tr th:only-of-type {\n",
       "        vertical-align: middle;\n",
       "    }\n",
       "\n",
       "    .dataframe tbody tr th {\n",
       "        vertical-align: top;\n",
       "    }\n",
       "\n",
       "    .dataframe thead th {\n",
       "        text-align: right;\n",
       "    }\n",
       "</style>\n",
       "<table border=\"1\" class=\"dataframe\">\n",
       "  <thead>\n",
       "    <tr style=\"text-align: right;\">\n",
       "      <th></th>\n",
       "      <th>Industry</th>\n",
       "      <th>Sector</th>\n",
       "      <th># of Employees</th>\n",
       "      <th>Market Capital</th>\n",
       "      <th>Main Products</th>\n",
       "      <th>Annual Sales</th>\n",
       "      <th>Book Values</th>\n",
       "    </tr>\n",
       "  </thead>\n",
       "  <tbody>\n",
       "    <tr>\n",
       "      <th>GOOG</th>\n",
       "      <td>Internet Content &amp; Information</td>\n",
       "      <td>Communication Services</td>\n",
       "      <td>190711</td>\n",
       "      <td>1642166091776</td>\n",
       "      <td>Alphabet Inc. offers various products and platforms in the United States, Europe, the Middle East, Africa, the Asia-Pacific, Canada, and Latin America. It operates through Google Services, Google Cloud, and Other Bets segments. The Google Services segment provides products and services, including ads, Android, Chrome, hardware, Gmail, Google Drive, Google Maps, Google Photos, Google Play, Search, and YouTube. It is also involved in the sale of apps and in-app purchases and digital content in the Google Play store; and Fitbit wearable devices, Google Nest home products, Pixel phones, and other devices, as well as in the provision of YouTube non-advertising services. The Google Cloud segment offers infrastructure, cybersecurity, data, analytics, AI, and machine learning, and other services; Google Workspace that include cloud-based collaboration tools for enterprises, such as Gmail, Docs, Drive, Calendar, and Meet; and other services for enterprise customers. The Other Bets segment sells health technology and internet services. The company was founded in 1998 and is headquartered in Mountain View, California.</td>\n",
       "      <td>284612001792</td>\n",
       "      <td>20.507</td>\n",
       "    </tr>\n",
       "  </tbody>\n",
       "</table>\n",
       "</div>"
      ],
      "text/plain": [
       "                            Industry                  Sector  # of Employees  \\\n",
       "GOOG  Internet Content & Information  Communication Services          190711   \n",
       "\n",
       "      Market Capital  \\\n",
       "GOOG   1642166091776   \n",
       "\n",
       "                                                                                                                                                                                                                                                                                                                                                                                                                                                                                                                                                                                                                                                                                                                                                                                                                                                                                                                                                                                                                                                                                                                                                             Main Products  \\\n",
       "GOOG  Alphabet Inc. offers various products and platforms in the United States, Europe, the Middle East, Africa, the Asia-Pacific, Canada, and Latin America. It operates through Google Services, Google Cloud, and Other Bets segments. The Google Services segment provides products and services, including ads, Android, Chrome, hardware, Gmail, Google Drive, Google Maps, Google Photos, Google Play, Search, and YouTube. It is also involved in the sale of apps and in-app purchases and digital content in the Google Play store; and Fitbit wearable devices, Google Nest home products, Pixel phones, and other devices, as well as in the provision of YouTube non-advertising services. The Google Cloud segment offers infrastructure, cybersecurity, data, analytics, AI, and machine learning, and other services; Google Workspace that include cloud-based collaboration tools for enterprises, such as Gmail, Docs, Drive, Calendar, and Meet; and other services for enterprise customers. The Other Bets segment sells health technology and internet services. The company was founded in 1998 and is headquartered in Mountain View, California.   \n",
       "\n",
       "      Annual Sales  Book Values  \n",
       "GOOG  284612001792       20.507  "
      ]
     },
     "execution_count": 4,
     "metadata": {},
     "output_type": "execute_result"
    }
   ],
   "source": [
    "goog = yf.Ticker(\"GOOG\")\n",
    "info_goog = goog.info # ở dạng dictionary\n",
    "dict_info = {\"Industry\":[info_goog[\"industry\"]], #Lấy value của key[\"industry\"]\n",
    "             \"Sector\":[info_goog[\"sector\"]],    #Lấy value của key[\"sector\"]\n",
    "             \"# of Employees\":[info_goog[\"fullTimeEmployees\"]], #Lấy value của key[\"fullTimeEmployees\"]\n",
    "             \"Market Capital\":[info_goog[\"marketCap\"]],  #Lấy value của key[\"marketCap\"]\n",
    "             \"Main Products\":[info_goog[\"longBusinessSummary\"]], #Lấy value của key[\"longBusinessSummary\"]\n",
    "             \"Annual Sales\":[info_goog[\"totalRevenue\"]], #Lấy value của key[\"totalRevenue\"]\n",
    "             \"Book Values\":[info_goog[\"bookValue\"]]}  #Lấy value của key[\"bookValue\"]\n",
    "table_GOOG = pd.DataFrame(data=dict_info,index=[\"GOOG\"]) # trình bày thông tin dưới dạng DataFrame\n",
    "pd.set_option('display.max_colwidth', None)\n",
    "table_GOOG"
   ]
  },
  {
   "cell_type": "markdown",
   "id": "307573dc",
   "metadata": {},
   "source": [
    "### 2.Overview of Oracle Corporation(ORCL)"
   ]
  },
  {
   "cell_type": "code",
   "execution_count": 5,
   "id": "ce57c837",
   "metadata": {
    "scrolled": false
   },
   "outputs": [
    {
     "data": {
      "text/html": [
       "<div>\n",
       "<style scoped>\n",
       "    .dataframe tbody tr th:only-of-type {\n",
       "        vertical-align: middle;\n",
       "    }\n",
       "\n",
       "    .dataframe tbody tr th {\n",
       "        vertical-align: top;\n",
       "    }\n",
       "\n",
       "    .dataframe thead th {\n",
       "        text-align: right;\n",
       "    }\n",
       "</style>\n",
       "<table border=\"1\" class=\"dataframe\">\n",
       "  <thead>\n",
       "    <tr style=\"text-align: right;\">\n",
       "      <th></th>\n",
       "      <th>Industry</th>\n",
       "      <th>Sector</th>\n",
       "      <th># of Employees</th>\n",
       "      <th>Market Capital</th>\n",
       "      <th>Main Products</th>\n",
       "      <th>Annual Sales</th>\n",
       "      <th>Book Values</th>\n",
       "    </tr>\n",
       "  </thead>\n",
       "  <tbody>\n",
       "    <tr>\n",
       "      <th>ORCL</th>\n",
       "      <td>Software—Infrastructure</td>\n",
       "      <td>Technology</td>\n",
       "      <td>143000</td>\n",
       "      <td>314337722368</td>\n",
       "      <td>Oracle Corporation offers products and services that address enterprise information technology environments worldwide. Its Oracle cloud software as a service offering include various cloud software applications, including Oracle Fusion cloud enterprise resource planning (ERP), Oracle Fusion cloud enterprise performance management, Oracle Fusion cloud supply chain and manufacturing management, Oracle Fusion cloud human capital management, Oracle Advertising, and NetSuite applications suite, as well as Oracle Fusion Sales, Service, and Marketing. The company also offers cloud-based industry solutions for various industries; Oracle application licenses; and Oracle license support services. In addition, it provides cloud and license business' infrastructure technologies, such as the Oracle Database, an enterprise database; Java, a software development language; and middleware, including development tools and others. The company's cloud and license business' infrastructure technologies also comprise cloud-based compute, storage, and networking capabilities; and Oracle autonomous database, MySQL HeatWave, Internet-of-Things, digital assistant, and blockchain. Further, it provides hardware products and other hardware-related software offerings, including Oracle engineered systems, enterprise servers, storage solutions, industry-specific hardware, virtualization software, operating systems, management software, and related hardware services; and consulting and customer services. The company markets and sells its cloud, license, hardware, support, and services offerings directly to businesses in various industries, government agencies, and educational institutions, as well as through indirect channels. Oracle Corporation was founded in 1977 and is headquartered in Austin, Texas.</td>\n",
       "      <td>47957999616</td>\n",
       "      <td>-0.897</td>\n",
       "    </tr>\n",
       "  </tbody>\n",
       "</table>\n",
       "</div>"
      ],
      "text/plain": [
       "                     Industry      Sector  # of Employees  Market Capital  \\\n",
       "ORCL  Software—Infrastructure  Technology          143000    314337722368   \n",
       "\n",
       "                                                                                                                                                                                                                                                                                                                                                                                                                                                                                                                                                                                                                                                                                                                                                                                                                                                                                                                                                                                                                                                                                                                                                                                                                                                                                                                                                                                                                                                                                                                                                                                                                                                                                                                                                                                                                                                                 Main Products  \\\n",
       "ORCL  Oracle Corporation offers products and services that address enterprise information technology environments worldwide. Its Oracle cloud software as a service offering include various cloud software applications, including Oracle Fusion cloud enterprise resource planning (ERP), Oracle Fusion cloud enterprise performance management, Oracle Fusion cloud supply chain and manufacturing management, Oracle Fusion cloud human capital management, Oracle Advertising, and NetSuite applications suite, as well as Oracle Fusion Sales, Service, and Marketing. The company also offers cloud-based industry solutions for various industries; Oracle application licenses; and Oracle license support services. In addition, it provides cloud and license business' infrastructure technologies, such as the Oracle Database, an enterprise database; Java, a software development language; and middleware, including development tools and others. The company's cloud and license business' infrastructure technologies also comprise cloud-based compute, storage, and networking capabilities; and Oracle autonomous database, MySQL HeatWave, Internet-of-Things, digital assistant, and blockchain. Further, it provides hardware products and other hardware-related software offerings, including Oracle engineered systems, enterprise servers, storage solutions, industry-specific hardware, virtualization software, operating systems, management software, and related hardware services; and consulting and customer services. The company markets and sells its cloud, license, hardware, support, and services offerings directly to businesses in various industries, government agencies, and educational institutions, as well as through indirect channels. Oracle Corporation was founded in 1977 and is headquartered in Austin, Texas.   \n",
       "\n",
       "      Annual Sales  Book Values  \n",
       "ORCL   47957999616       -0.897  "
      ]
     },
     "execution_count": 5,
     "metadata": {},
     "output_type": "execute_result"
    }
   ],
   "source": [
    "orcl= yf.Ticker(\"ORCL\")\n",
    "info_orcl = orcl.info\n",
    "dict_info = {\"Industry\":[info_orcl[\"industry\"]],\n",
    "             \"Sector\":[info_orcl[\"sector\"]],\n",
    "             \"# of Employees\":[info_orcl[\"fullTimeEmployees\"]],\n",
    "             \"Market Capital\":[info_orcl[\"marketCap\"]],\n",
    "             \"Main Products\":[info_orcl[\"longBusinessSummary\"]],\n",
    "             \"Annual Sales\":[info_orcl[\"totalRevenue\"]],\n",
    "             \"Book Values\":[info_orcl[\"bookValue\"]]}\n",
    "table_ORCL = pd.DataFrame(data=dict_info,index=[\"ORCL\"])\n",
    "pd.set_option('display.max_colwidth', None)\n",
    "table_ORCL\n"
   ]
  },
  {
   "cell_type": "markdown",
   "id": "4534e500",
   "metadata": {},
   "source": [
    "### 3.Overview of Johnson & Johnson(JNJ)"
   ]
  },
  {
   "cell_type": "code",
   "execution_count": 6,
   "id": "20872961",
   "metadata": {
    "scrolled": false
   },
   "outputs": [
    {
     "data": {
      "text/html": [
       "<div>\n",
       "<style scoped>\n",
       "    .dataframe tbody tr th:only-of-type {\n",
       "        vertical-align: middle;\n",
       "    }\n",
       "\n",
       "    .dataframe tbody tr th {\n",
       "        vertical-align: top;\n",
       "    }\n",
       "\n",
       "    .dataframe thead th {\n",
       "        text-align: right;\n",
       "    }\n",
       "</style>\n",
       "<table border=\"1\" class=\"dataframe\">\n",
       "  <thead>\n",
       "    <tr style=\"text-align: right;\">\n",
       "      <th></th>\n",
       "      <th>Industry</th>\n",
       "      <th>Sector</th>\n",
       "      <th># of Employees</th>\n",
       "      <th>Market Capital</th>\n",
       "      <th>Main Products</th>\n",
       "      <th>Annual Sales</th>\n",
       "      <th>Book Values</th>\n",
       "    </tr>\n",
       "  </thead>\n",
       "  <tbody>\n",
       "    <tr>\n",
       "      <th>JNJ</th>\n",
       "      <td>Drug Manufacturers—General</td>\n",
       "      <td>Healthcare</td>\n",
       "      <td>152700</td>\n",
       "      <td>415536906240</td>\n",
       "      <td>Johnson &amp; Johnson, together with its subsidiaries, researches, develops, manufactures, and sells various products in the healthcare field worldwide. The company's Consumer Health segment provides skin health/beauty products under the AVEENO, CLEAN &amp; CLEAR, DR. CI:LABO, NEUTROGENA, and OGX brands; baby care products under the JOHNSON'S and AVEENO Baby brands; oral care products under the LISTERINE brand; TYLENOL acetaminophen products; SUDAFED cold, flu, and allergy products; BENADRYL and ZYRTEC allergy products; MOTRIN IB ibuprofen products; NICORETTE smoking cessation products; and PEPCID acid reflux products. This segment also offers STAYFREE and CAREFREE sanitary pads; o.b. tampons; adhesive bandages under the BAND-AID brand; and first aid products under the NEOSPORIN brand. It serves general public, retail outlets, and distributors. The company's Pharmaceutical segment provides products for rheumatoid arthritis, psoriatic arthritis, inflammatory bowel disease, and psoriasis; HIV/AIDS infectious diseases; mood disorders, neurodegenerative disorders, and schizophrenia; prostate cancer, hematologic malignancies, lung cancer, and bladder cancer; thrombosis, diabetes, and macular degeneration; and pulmonary arterial hypertension. This segment serves retailers, wholesalers, distributors, hospitals, and healthcare professionals directly for prescription use. Its MedTech segment offers electrophysiology products to treat cardiovascular diseases; neurovascular care products to treat hemorrhagic and ischemic stroke; orthopaedics products in support of hips, knees, trauma, spine, sports, and other; advanced and general surgery solutions that focus on breast aesthetics, ear, nose, and throat procedures; and contact lenses and ophthalmic technologies related to cataract and laser refractive surgery under the ACUVUE brand. This segment serves wholesalers, hospitals, and retailers. Johnson &amp; Johnson was founded in 1886 and is based in New Brunswick, New Jersey.</td>\n",
       "      <td>96262995968</td>\n",
       "      <td>27.275</td>\n",
       "    </tr>\n",
       "  </tbody>\n",
       "</table>\n",
       "</div>"
      ],
      "text/plain": [
       "                       Industry      Sector  # of Employees  Market Capital  \\\n",
       "JNJ  Drug Manufacturers—General  Healthcare          152700    415536906240   \n",
       "\n",
       "                                                                                                                                                                                                                                                                                                                                                                                                                                                                                                                                                                                                                                                                                                                                                                                                                                                                                                                                                                                                                                                                                                                                                                                                                                                                                                                                                                                                                                                                                                                                                                                                                                                                                                                                                                                                                                                                                                                                                                                                                                                        Main Products  \\\n",
       "JNJ  Johnson & Johnson, together with its subsidiaries, researches, develops, manufactures, and sells various products in the healthcare field worldwide. The company's Consumer Health segment provides skin health/beauty products under the AVEENO, CLEAN & CLEAR, DR. CI:LABO, NEUTROGENA, and OGX brands; baby care products under the JOHNSON'S and AVEENO Baby brands; oral care products under the LISTERINE brand; TYLENOL acetaminophen products; SUDAFED cold, flu, and allergy products; BENADRYL and ZYRTEC allergy products; MOTRIN IB ibuprofen products; NICORETTE smoking cessation products; and PEPCID acid reflux products. This segment also offers STAYFREE and CAREFREE sanitary pads; o.b. tampons; adhesive bandages under the BAND-AID brand; and first aid products under the NEOSPORIN brand. It serves general public, retail outlets, and distributors. The company's Pharmaceutical segment provides products for rheumatoid arthritis, psoriatic arthritis, inflammatory bowel disease, and psoriasis; HIV/AIDS infectious diseases; mood disorders, neurodegenerative disorders, and schizophrenia; prostate cancer, hematologic malignancies, lung cancer, and bladder cancer; thrombosis, diabetes, and macular degeneration; and pulmonary arterial hypertension. This segment serves retailers, wholesalers, distributors, hospitals, and healthcare professionals directly for prescription use. Its MedTech segment offers electrophysiology products to treat cardiovascular diseases; neurovascular care products to treat hemorrhagic and ischemic stroke; orthopaedics products in support of hips, knees, trauma, spine, sports, and other; advanced and general surgery solutions that focus on breast aesthetics, ear, nose, and throat procedures; and contact lenses and ophthalmic technologies related to cataract and laser refractive surgery under the ACUVUE brand. This segment serves wholesalers, hospitals, and retailers. Johnson & Johnson was founded in 1886 and is based in New Brunswick, New Jersey.   \n",
       "\n",
       "     Annual Sales  Book Values  \n",
       "JNJ   96262995968       27.275  "
      ]
     },
     "execution_count": 6,
     "metadata": {},
     "output_type": "execute_result"
    }
   ],
   "source": [
    "jnj = yf.Ticker(\"JNJ\")\n",
    "info_jnj = jnj.info\n",
    "dict_info = {\"Industry\":[info_jnj[\"industry\"]],\n",
    "             \"Sector\":[info_jnj[\"sector\"]],\n",
    "             \"# of Employees\":[info_jnj[\"fullTimeEmployees\"]],\n",
    "             \"Market Capital\":[info_jnj[\"marketCap\"]],\n",
    "             \"Main Products\":[info_jnj[\"longBusinessSummary\"]],\n",
    "             \"Annual Sales\":[info_jnj[\"totalRevenue\"]],\n",
    "             \"Book Values\":[info_jnj[\"bookValue\"]]}\n",
    "table_JNJ = pd.DataFrame(data=dict_info,index=[\"JNJ\"])\n",
    "pd.set_option('display.max_colwidth', None)\n",
    "table_JNJ\n"
   ]
  },
  {
   "cell_type": "code",
   "execution_count": null,
   "id": "13ca2f72",
   "metadata": {},
   "outputs": [],
   "source": [
    "stock_name = input(\"Nhập vào mã cổ phiếu cần tra cứu thông tin: \")\n",
    "stock= yf.Ticker(\"{0}\".format(stock_name))\n",
    "info_stock = stock.info\n",
    "dict_info = {\"Industry\":[info_orcl[\"industry\"]],\n",
    "             \"Sector\":[info_orcl[\"sector\"]],\n",
    "             \"# of Employees\":[info_orcl[\"fullTimeEmployees\"]],\n",
    "             \"Market Capital\":[info_orcl[\"marketCap\"]],\n",
    "             \"Main Products\":[info_orcl[\"longBusinessSummary\"]],\n",
    "             \"Annual Sales\":[info_orcl[\"totalRevenue\"]],\n",
    "             \"Book Values\":[info_orcl[\"bookValue\"]]}\n",
    "table_stock = pd.DataFrame(data=dict_info,index=[\"{0}\".format(stock_name)])\n",
    "pd.set_option('display.max_colwidth', None)\n",
    "table_stock"
   ]
  },
  {
   "cell_type": "markdown",
   "id": "e9a14591",
   "metadata": {},
   "source": [
    "## Question 2:Pull stocks prices(open) from 01/04/2022-31/03/2023 -> Đánh giá thông tin thống kê về số liệu\n"
   ]
  },
  {
   "cell_type": "markdown",
   "id": "95f8756a",
   "metadata": {},
   "source": [
    "### 1.GOOG"
   ]
  },
  {
   "cell_type": "code",
   "execution_count": null,
   "id": "3c4b3528",
   "metadata": {},
   "outputs": [],
   "source": [
    "start_date = \"2022-04-01\"\n",
    "end_date = \"2023-04-01\"\n",
    "# Dùng end_data = \"2023-04-01\" để lấy được ngày \"31-03-2023\"\n",
    "df_GOOG = yf.download('GOOG', start=start_date, end=end_date,interval='1d',auto_adjust=True)\n",
    "\n",
    "df_GOOG[\"Open\"]\n",
    "df_GOOG[\"Open\"].describe()"
   ]
  },
  {
   "cell_type": "code",
   "execution_count": null,
   "id": "ba02d50c",
   "metadata": {},
   "outputs": [],
   "source": [
    "date_list = df_GOOG.index.tolist()\n",
    "date_list_new = []\n",
    "for date in date_list:\n",
    "    date_new = date.strftime(\"%Y-%m-%d\")\n",
    "    date_list_new.append(date_new)\n",
    "high_list =  df_GOOG[\"High\"].tolist()\n",
    "date_high = dict(zip(date_list_new,high_list))\n",
    "a = max(high_list)\n",
    "for key in date_high:\n",
    "    if date_high[key] == a:\n",
    "        print(\"Giá cổ phiếu cao nhất trong giai đoạn là:\",a,\" vào ngày\",key)\n",
    "low_list = df_GOOG[\"Low\"].tolist()\n",
    "date_low = dict(zip(date_list_new,low_list))\n",
    "b = min(low_list)\n",
    "for key in date_low:\n",
    "    if date_low[key] == b:\n",
    "        print(\"Giá cổ phiếu thấp nhất trong giai đoạn là:\",b,\" vào ngày\",key)"
   ]
  },
  {
   "cell_type": "code",
   "execution_count": null,
   "id": "3b746663",
   "metadata": {},
   "outputs": [],
   "source": [
    "volume_list = df_GOOG[\"Volume\"].tolist()\n",
    "date_volume = dict(zip(date_list_new,volume_list))\n",
    "c,d = max(date_volume.values()),min(date_volume.values())\n",
    "for key in date_volume:\n",
    "    if date_volume[key] == c:\n",
    "        print(\"Khối lượng giao dịch lớn nhất trong giai đoạn là:\",c,\"vào ngày\",key)\n",
    "    elif date_volume[key] == d:\n",
    "        print(\"Khối lượng giao dịch thấp nhất trong giai đoạn là:\",d,\"vào ngày\",key)\n"
   ]
  },
  {
   "cell_type": "code",
   "execution_count": null,
   "id": "df0bc8e1",
   "metadata": {},
   "outputs": [],
   "source": [
    "\n",
    "plt.style.use(\"seaborn-v0_8-whitegrid\")"
   ]
  },
  {
   "cell_type": "code",
   "execution_count": null,
   "id": "4118ad15",
   "metadata": {},
   "outputs": [],
   "source": [
    "\n",
    "plt.figure(figsize=(14,6))  #chỉnh size của đồ thị\n",
    "\n",
    "open_and_date = dict(zip(date_list_new,df_GOOG[\"Open\"].tolist()))\n",
    "plt.plot(date_list_new,df_GOOG[\"Open\"],color=\"darkviolet\")\n",
    "plt.xticks([])\n",
    "#Tìm điểm giá cổ phiếu mở cửa lớn nhất và thấp nhất\n",
    "a = max(df_GOOG[\"Open\"].tolist())\n",
    "a_index = [k for k,v in open_and_date.items() if v == a]\n",
    "b = min(df_GOOG[\"Open\"].tolist())\n",
    "b_index = [k for k,v in open_and_date.items() if v == b]\n",
    "# Biểu diễn thông tin giá cao nhất và thấp nhất trên biểu đồ\n",
    "plt.annotate('Max price: ' + str(a), xy=(a_index, a))\n",
    "plt.annotate('Min price: ' + str(b), xy=(b_index, b))\n",
    "# Thêm dấu chấm vào biểu đồ ở chỗ có giá cao nhất và thấp nhất\n",
    "plt.scatter(a_index,a, color='green', s=50)\n",
    "plt.scatter(b_index,b, color='red', s=50)\n",
    "\n",
    "# Thêm ngày vào trục x\n",
    "x_ticks = list(plt.xticks()[0]) + a_index + b_index\n",
    "x_ticks.sort()\n",
    "plt.xticks(x_ticks, rotation=0)\n",
    "\n",
    "plt.title(\"GOOG Open price\",size = 16) # đặt tên cho title\n",
    "\n",
    "# Đặt tên cho trục x và trục y\n",
    "plt.xlabel('Date')# đặt tên cho trục x\n",
    "plt.ylabel('Price')# đặt tên cho trục y\n",
    "\n",
    "plt.show();"
   ]
  },
  {
   "cell_type": "markdown",
   "id": "07129d5c",
   "metadata": {},
   "source": [
    "### 2.ORCL"
   ]
  },
  {
   "cell_type": "code",
   "execution_count": null,
   "id": "2b398f78",
   "metadata": {},
   "outputs": [],
   "source": [
    "df_ORCL = yf.download('ORCL', start=start_date, end=end_date,interval='1d',auto_adjust=True)\n",
    "df_ORCL[\"Open\"]\n",
    "df_ORCL[\"Open\"].describe()"
   ]
  },
  {
   "cell_type": "code",
   "execution_count": null,
   "id": "66cc4d44",
   "metadata": {},
   "outputs": [],
   "source": [
    "date_list = df_ORCL.index.tolist()\n",
    "date_list_new = []\n",
    "for date in date_list:\n",
    "    date_new = date.strftime(\"%Y-%m-%d\")\n",
    "    date_list_new.append(date_new)\n",
    "high_list =  df_ORCL[\"High\"].tolist()\n",
    "date_high = dict(zip(date_list_new,high_list))\n",
    "a = max(high_list)\n",
    "for key in date_high:\n",
    "    if date_high[key] == a:\n",
    "        print(\"Giá cổ phiếu cao nhất trong giai đoạn là:\",a,\" vào ngày\",key)\n",
    "low_list = df_ORCL[\"Low\"].tolist()\n",
    "date_low = dict(zip(date_list_new,low_list))\n",
    "b = min(low_list)\n",
    "for key in date_low:\n",
    "    if date_low[key] == b:\n",
    "        print(\"Giá cổ phiếu thấp nhất trong giai đoạn là:\",b,\" vào ngày\",key)"
   ]
  },
  {
   "cell_type": "code",
   "execution_count": null,
   "id": "9593a548",
   "metadata": {},
   "outputs": [],
   "source": [
    "volume_list = df_ORCL[\"Volume\"].tolist()\n",
    "date_volume = dict(zip(date_list_new,volume_list))\n",
    "c,d = max(date_volume.values()),min(date_volume.values())\n",
    "for key in date_volume:\n",
    "    if date_volume[key] == c:\n",
    "        print(\"Khối lượng giao dịch lớn nhất trong giai đoạn là:\",c,\"vào ngày\",key)\n",
    "    elif date_volume[key] == d:\n",
    "        print(\"Khối lượng giao dịch thấp nhất trong giai đoạn là:\",d,\"vào ngày\",key)"
   ]
  },
  {
   "cell_type": "code",
   "execution_count": null,
   "id": "6c570f0e",
   "metadata": {},
   "outputs": [],
   "source": [
    "plt.figure(figsize=(14,6)) \n",
    "\n",
    "open_and_date = dict(zip(date_list_new,df_ORCL[\"Open\"].tolist()))\n",
    "plt.plot(date_list_new,df_ORCL[\"Open\"],color=\"seagreen\")\n",
    "plt.xticks([])\n",
    "#Tìm điểm giá cổ phiếu mở cửa lớn nhất và thấp nhất\n",
    "a = max(df_ORCL[\"Open\"].tolist())\n",
    "a_index = [k for k,v in open_and_date.items() if v == a]\n",
    "b = min(df_ORCL[\"Open\"].tolist())\n",
    "b_index = [k for k,v in open_and_date.items() if v == b]\n",
    "# Biểu diễn thông tin giá cao nhất và thấp nhất trên biểu đồ\n",
    "plt.annotate('Max price: ' + str(a), xy=(a_index, a))\n",
    "plt.annotate('Min price: ' + str(b), xy=(b_index, b))\n",
    "# Thêm dấu chấm vào biểu đồ ở chỗ có giá cao nhất và thấp nhất\n",
    "plt.scatter(a_index,a, color='red', s=50)\n",
    "plt.scatter(b_index,b, color='green', s=50)\n",
    "\n",
    "# Thêm ngày vào trục x\n",
    "x_ticks = list(plt.xticks()[0]) + a_index + b_index\n",
    "x_ticks.sort()\n",
    "plt.xticks(x_ticks, rotation=0)\n",
    "\n",
    "plt.title(\"ORCL price\",size = 16)\n",
    "\n",
    "# Đặt tên cho trục x và trục y\n",
    "plt.xlabel('Date')\n",
    "plt.ylabel('Price')\n",
    "\n",
    "\n",
    "plt.show();"
   ]
  },
  {
   "cell_type": "markdown",
   "id": "41c0945a",
   "metadata": {},
   "source": [
    "### 3.JNJ"
   ]
  },
  {
   "cell_type": "code",
   "execution_count": null,
   "id": "0563834d",
   "metadata": {},
   "outputs": [],
   "source": [
    "df_JNJ = yf.download('JNJ', start=start_date, end=end_date,interval='1d',auto_adjust=True)\n",
    "df_JNJ[\"Open\"]\n",
    "df_JNJ[\"Open\"].describe()"
   ]
  },
  {
   "cell_type": "code",
   "execution_count": null,
   "id": "dc3e088a",
   "metadata": {},
   "outputs": [],
   "source": [
    "date_list = df_JNJ.index.tolist()\n",
    "date_list_new = []\n",
    "for date in date_list:\n",
    "    date_new = date.strftime(\"%Y-%m-%d\")\n",
    "    date_list_new.append(date_new)\n",
    "high_list =  df_JNJ[\"High\"].tolist()\n",
    "date_high = dict(zip(date_list_new,high_list))\n",
    "a = max(high_list)\n",
    "for key in date_high:\n",
    "    if date_high[key] == a:\n",
    "        print(\"Giá cổ phiếu cao nhất trong giai đoạn là:\",a,\" vào ngày\",key)\n",
    "low_list = df_JNJ[\"Low\"].tolist()\n",
    "date_low = dict(zip(date_list_new,low_list))\n",
    "b = min(low_list)\n",
    "for key in date_low:\n",
    "    if date_low[key] == b:\n",
    "        print(\"Giá cổ phiếu thấp nhất trong giai đoạn là:\",b,\" vào ngày\",key)"
   ]
  },
  {
   "cell_type": "code",
   "execution_count": null,
   "id": "373b103a",
   "metadata": {},
   "outputs": [],
   "source": [
    "volume_list = df_JNJ[\"Volume\"].tolist()\n",
    "date_volume = dict(zip(date_list_new,volume_list))\n",
    "c,d = max(date_volume.values()),min(date_volume.values())\n",
    "for key in date_volume:\n",
    "    if date_volume[key] == c:\n",
    "        print(\"Khối lượng giao dịch lớn nhất trong giai đoạn là:\",c,\"vào ngày\",key)\n",
    "    elif date_volume[key] == d:\n",
    "        print(\"Khối lượng giao dịch thấp nhất trong giai đoạn là:\",d,\"vào ngày\",key)"
   ]
  },
  {
   "cell_type": "code",
   "execution_count": null,
   "id": "347503a6",
   "metadata": {},
   "outputs": [],
   "source": [
    "plt.figure(figsize=(14,6)) \n",
    "\n",
    "open_and_date = dict(zip(date_list_new,df_JNJ[\"Open\"].tolist()))\n",
    "plt.plot(date_list_new,df_JNJ[\"Open\"],color=\"orange\")\n",
    "plt.xticks([])\n",
    "#Tìm điểm giá cổ phiếu mở cửa lớn nhất và thấp nhất\n",
    "a = max(df_JNJ[\"Open\"].tolist())\n",
    "a_index = [k for k,v in open_and_date.items() if v == a]\n",
    "b = min(df_JNJ[\"Open\"].tolist())\n",
    "b_index = [k for k,v in open_and_date.items() if v == b]\n",
    "# Biểu diễn thông tin giá cao nhất và thấp nhất trên biểu đồ\n",
    "plt.annotate('Max price: ' + str(a), xy=(a_index, a))\n",
    "plt.annotate('Min price: ' + str(b), xy=(b_index, b))\n",
    "# Thêm dấu chấm vào biểu đồ ở chỗ có giá cao nhất và thấp nhất\n",
    "plt.scatter(a_index,a, color='red', s=50)\n",
    "plt.scatter(b_index,b, color='green', s=50)\n",
    "\n",
    "# Thêm ngày vào trục x\n",
    "x_ticks = list(plt.xticks()[0]) + a_index + b_index\n",
    "x_ticks.sort()\n",
    "plt.xticks(x_ticks, rotation=0)\n",
    "\n",
    "plt.title(\"JNJ price\",size = 16)\n",
    "\n",
    "# Đặt tên cho trục x và trục y\n",
    "plt.xlabel('Date')\n",
    "plt.ylabel('Price')\n",
    "\n",
    "plt.show();"
   ]
  },
  {
   "cell_type": "code",
   "execution_count": null,
   "id": "be2d282a",
   "metadata": {},
   "outputs": [],
   "source": []
  },
  {
   "cell_type": "code",
   "execution_count": null,
   "id": "10823718",
   "metadata": {},
   "outputs": [],
   "source": []
  },
  {
   "cell_type": "markdown",
   "id": "c1c68b12",
   "metadata": {},
   "source": [
    "## Question 3: Plot stocks prices (all 3) in one graph with all legend"
   ]
  },
  {
   "cell_type": "code",
   "execution_count": null,
   "id": "8769632f",
   "metadata": {},
   "outputs": [],
   "source": [
    "#Kết hợp các DataFrame\n",
    "stocks = pd.concat([df_GOOG[\"Open\"], df_ORCL[\"Open\"], df_JNJ[\"Open\"]],axis = 1) # axis=1 để method concat tác động theo chiều ngang\n",
    "stocks.columns = [\"GOOG\", \"ORCL\", \"JNJ\"] # df.columns để đặt tên cột \n",
    "colors = [\"darkviolet\",\"seagreen\",\"orange\"]\n",
    "# Vẽ biểu đồ\n",
    "plt.figure(figsize=(14, 6))\n",
    "for i,col in enumerate(stocks.columns):\n",
    "    plt.plot(stocks[col], color=colors[i])\n",
    "plt.title(\"Stock Prices from 01/04/2022 to 31/03/2023\")\n",
    "plt.xlabel(\"Date\")\n",
    "plt.ylabel(\"Price ($)\")\n",
    "plt.legend(stocks.columns) # pp legend() giúp thể hiện trên cùng một biểu đồ \n",
    "plt.show();"
   ]
  },
  {
   "cell_type": "markdown",
   "id": "d12b9a95",
   "metadata": {},
   "source": [
    "## Question 4: Plots histogram of returns of each stock"
   ]
  },
  {
   "cell_type": "code",
   "execution_count": null,
   "id": "45edbd57",
   "metadata": {
    "scrolled": false
   },
   "outputs": [],
   "source": [
    "stocks = pd.concat([df_GOOG[\"Open\"],df_ORCL[\"Open\"],df_JNJ[\"Open\"]],axis=1)\n",
    "stocks.columns = [\"GOOG\", \"ORCL\", \"JNJ\"]\n",
    "colors = ['darkblue', 'darkgreen', 'darkred']\n",
    "#tạo returns (Trả về phần trăm thay đổi của gía cổ phiếu sau mỗi ngày khảo sát)\n",
    "returns = stocks.pct_change().dropna() #sử dung dropna() để tránh các trường hợp mất mát dữ liệu\n",
    "# pct_change() thể hiện phần trăm thay đổi so với dữ liệu ở hàng trước\n",
    "print(returns)\n",
    "# Vẽ biểu đồ histogram\n",
    "for i,col in enumerate(returns.columns):\n",
    "    returns[col].hist(bins=50,figsize=(8,4),color=colors[i], edgecolor='black',linewidth= 0.75);\n",
    "    plt.grid(True, linestyle='--', alpha=0.5) # Chỉnh style của đường kẻ, độ đậm nhạt\n",
    "    plt.title(col + ' Returns',size = 12)\n",
    "    plt.xlabel('Return',size=10)\n",
    "    plt.ylabel('Frequency',size=10)\n",
    "    plt.show();"
   ]
  },
  {
   "cell_type": "code",
   "execution_count": null,
   "id": "1939e98c",
   "metadata": {},
   "outputs": [],
   "source": [
    "#Analyzing Stock Price Correlations (Correlation coefficient)\n",
    "corr_data = returns.corr(method=\"pearson\")\n",
    "sns.heatmap(corr_data,annot = True,cmap=\"coolwarm\",vmin=-1,vmax=1,center = 0)\n",
    "\n",
    "plt.show();"
   ]
  },
  {
   "cell_type": "markdown",
   "id": "d63351d7",
   "metadata": {},
   "source": [
    "## Question 5: Plots Markowitz's bullet, Markowitz's Portfolio Frontier"
   ]
  },
  {
   "cell_type": "code",
   "execution_count": null,
   "id": "e0e1c67b",
   "metadata": {},
   "outputs": [],
   "source": [
    "# Tính toán giá trị trung bình và độ lệch chuẩn của lợi nhuận của mỗi cổ phiếu\n",
    "mean_returns = returns.mean()\n",
    "std_returns = returns.std()\n",
    "table_1 = pd.concat([mean_returns,std_returns],axis=1)\n",
    "table_1.columns = [\"mean\",\"std\"]\n",
    "table_1 = table_1.transpose()\n",
    "table_1"
   ]
  },
  {
   "cell_type": "code",
   "execution_count": null,
   "id": "0f22f39b",
   "metadata": {},
   "outputs": [],
   "source": [
    "# Ma trận hiệp phương sai\n",
    "cov_matrix = returns.cov()\n",
    "cov_matrix"
   ]
  },
  {
   "cell_type": "code",
   "execution_count": null,
   "id": "34941d42",
   "metadata": {},
   "outputs": [],
   "source": [
    "# Số lượng cổ phiếu\n",
    "n_assets = 3\n",
    "# Số lượng đánh giá ở đây chính là số ngày trong giai đoạn khỏa sát (01/04/2022-31/03/2023)\n",
    "# Tạo một danh sách các phương án đầu tư\n",
    "n_portfolios = 5000\n",
    "# Tạo các ma trận bằng 0\n",
    "all_weights = np.zeros((n_portfolios,n_assets)) # Ma trận có hàng là số danh mục đầu tư đưa ra, các cột là tỉ trọng của từng cổ phiếu\n",
    "ret_arr = np.zeros(n_portfolios) # Ma trận chứa giá trị tỉ suất sinh lời kì vọng\n",
    "std_arr = np.zeros(n_portfolios) # Ma trận chứa tỉ lệ rủi ro\n",
    "sharpe_arr = np.zeros(n_portfolios) # Ma trận chứa chỉ số Sharpe của từng danh mục đầu tư\n",
    "# Tạo ngẫu nhiên các trọng số cho mỗi cổ phiếu\n",
    "def random_weights(n):\n",
    "    # tạo tỉ trọng ngẫu nhiên giữa các cổ phiếu trong danh mục bằng np.random.random()\n",
    "    weights= np.array(np.random.random(n))\n",
    "    return  weights / np.sum(weights) #trả về tỉ lệ phần trăm của từng cổ phiếu trong danh mục đầu tư\n",
    "\n",
    "\n",
    "# Tính toán lợi nhuận, độ lệch chuẩn và chỉ số Sharpe\n",
    "def random_portfolio(returns):\n",
    "    ret_arr_value = np.sum(mean_returns * weights) # Giá trị kì vọng của biến ngẫu nhiên rời rạc\n",
    "    std_arr_value = np.sqrt(np.dot(weights.T, np.dot(cov_matrix , weights))) # Dùng np.dot để tính tích vô hướng các ma trận\n",
    "    return ret_arr_value,std_arr_value\n",
    "\n",
    "for i in range(n_portfolios):\n",
    "    weights = random_weights(n_assets)\n",
    "    \n",
    "    # Lưu trọng số\n",
    "    all_weights[i,:] = weights\n",
    "    # Lưu  lợi nhuận, độ lệch chuẩn và chỉ số Sharpe\n",
    "    ret_arr[i],std_arr[i] = random_portfolio(returns)\n",
    "    sharpe_arr[i] = ret_arr[i] / std_arr[i] # Tính chỉ số Sharpe(lợi nhuận thu được là bao nhiêu trên một đơn vị rủi ro)\n",
    "    \n",
    "    \n",
    "# Tìm danh mục đầu tư với chỉ số Sharpe tối đa\n",
    "max_sharpe_idx = sharpe_arr.argmax()\n",
    "max_sharpe_ret = ret_arr[max_sharpe_idx]\n",
    "max_sharpe_std = std_arr[max_sharpe_idx]\n",
    "max_sharpe_weights = all_weights[max_sharpe_idx,:]\n",
    "\n",
    "from scipy.optimize import minimize\n",
    "\n",
    "# Tính toán Efficient Frontier\n",
    "frontier_y = np.linspace(min(ret_arr), max(ret_arr), 100) #Dùngnp.linspace() tạo 1 mảng gồm 100 giá trị từ nhỏ nhất đến lớn nhất \n",
    "frontier_x = [] #lưu giá trị biến động tương ứng với mỗi mức lợi nhuận trong frontier_y\n",
    "\n",
    "\n",
    "# Tính toán danh mục đầu tư trên Efficient Frontier\n",
    "\n",
    "# Định nghĩa hàm tính std theo các trọng số đã có\n",
    "def minimize_std(weights):\n",
    "    # tính toán\n",
    "    portfolio_std = np.sqrt(np.dot(weights.T, np.dot(cov_matrix, weights)))\n",
    "    return portfolio_std\n",
    "# Duyệt qua mỗi mức lợi nhuận tương ứng trong frontier_y\n",
    "for possible_return in frontier_y:\n",
    "    # Tìm trọng số danh mục đầu tư tương ứng\n",
    "    bounds = ((0, 1), (0, 1), (0, 1))  #Giới hạn trọng số đầu tư (0%-100%)\n",
    "    init_guess = [1/3, 1/3, 1/3]  # Phép đoán đầu tiên cho trọng số là 1/3 cho mỗi cổ phiếu\n",
    "    \n",
    "    cons = ({'type':'eq','fun': lambda w: np.sum(w) - 1}, # Ràng buộc đầu tiên đảm bảo tổng các trọng số đầu tư bằng 1\n",
    "            {'type':'eq','fun': lambda w: np.sum(mean_returns * w) - possible_return}) #ràng buộc thứ hai đảm bảo tổng lợi nhuận của danh mục nhân với trọng số đầu tư bằng mức lợi nhuận có thể của Efficient Frontier tại từng lần lặp.\n",
    "    \n",
    "    res = minimize(minimize_std, init_guess, method='SLSQP', bounds=bounds, constraints=cons) #tìm ra kết quả\n",
    "    frontier_x.append(res['fun']) # thêm std tương ứng với mỗi mức lợi nhuận vào frontier_x\n",
    "\n"
   ]
  },
  {
   "cell_type": "code",
   "execution_count": null,
   "id": "efec2314",
   "metadata": {},
   "outputs": [],
   "source": [
    "for i in range(len(frontier_y)):\n",
    "    possible_return = frontier_y[i]\n",
    "    res = minimize(minimize_std, init_guess, method='SLSQP', bounds=bounds, constraints=cons)\n",
    "    frontier_x[i] = res['fun']\n",
    "    \n",
    "    if possible_return == max_sharpe_ret:\n",
    "        max_sharpe_weights = res['x']\n",
    "print(max_sharpe_weights)"
   ]
  },
  {
   "cell_type": "code",
   "execution_count": null,
   "id": "49774bd5",
   "metadata": {
    "scrolled": false
   },
   "outputs": [],
   "source": [
    "# Vẽ đường Markowitz's bullet\n",
    "plt.figure(figsize=(10,6))\n",
    "plt.scatter(std_arr, ret_arr, c=sharpe_arr, cmap='magma')\n",
    "plt.colorbar(label='Sharpe Ratio')\n",
    "plt.xlabel('Portfolio Std')\n",
    "plt.ylabel('Portfolio Return')\n",
    "plt.title('Markowitz Portfolio ')\n",
    "plt.scatter(max_sharpe_std, max_sharpe_ret, c='red', s=50, edgecolors='black')\n",
    "plt.text(max_sharpe_std+0.001, max_sharpe_ret-0.01, 'Max Sharpe', fontsize=\"x-large\")\n",
    "# Vẽ Efficient Frontier\n",
    "plt.plot(frontier_x, frontier_y, 'r--', linewidth=2.5)\n",
    "\n",
    "plt.show();"
   ]
  },
  {
   "cell_type": "markdown",
   "id": "6e555bb4",
   "metadata": {},
   "source": [
    "##"
   ]
  }
 ],
 "metadata": {
  "kernelspec": {
   "display_name": "Python 3 (ipykernel)",
   "language": "python",
   "name": "python3"
  },
  "language_info": {
   "codemirror_mode": {
    "name": "ipython",
    "version": 3
   },
   "file_extension": ".py",
   "mimetype": "text/x-python",
   "name": "python",
   "nbconvert_exporter": "python",
   "pygments_lexer": "ipython3",
   "version": "3.10.9"
  }
 },
 "nbformat": 4,
 "nbformat_minor": 5
}
